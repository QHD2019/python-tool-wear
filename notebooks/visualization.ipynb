{
 "cells": [
  {
   "cell_type": "code",
   "execution_count": null,
   "metadata": {},
   "outputs": [],
   "source": [
    "# Execute all code from the root directory\n",
    "import os\n",
    "if os.getcwd().endswith(\"notebooks\"):\n",
    "    os.chdir(\"../\")"
   ]
  },
  {
   "cell_type": "code",
   "execution_count": null,
   "metadata": {
    "scrolled": true
   },
   "outputs": [],
   "source": [
    "import sys\n",
    "import matplotlib\n",
    "from lib.data import ToolData\n",
    "from lib.constants import *\n",
    "from lib.featurize import get_audio_vibration_vector\n",
    "import matplotlib.pyplot as plt\n",
    "matplotlib.rcParams.update({'font.size': FONTSIZE})\n",
    "%matplotlib inline"
   ]
  },
  {
   "cell_type": "code",
   "execution_count": null,
   "metadata": {},
   "outputs": [],
   "source": [
    "TOOL = 3 # The tool that we are plotting\n",
    "\n",
    "td = ToolData(TOOL)\n",
    "air_cuts = [cut for cut in td.iter_cuts() if cut.cuttype==AIR_CUT]\n",
    "conv_cuts = [cut for cut in td.iter_cuts() if cut.cuttype==CONV_CUT]\n",
    "climb_cuts = [cut for cut in td.iter_cuts() if cut.cuttype==CLIMB_CUT]\n"
   ]
  },
  {
   "cell_type": "code",
   "execution_count": null,
   "metadata": {
    "collapsed": true
   },
   "outputs": [],
   "source": [
    "# Define the action to color mapping\n",
    "colormap = {\n",
    "  AIR_CUT: RED,\n",
    "  CLIMB_CUT: BLUE,\n",
    "  CONV_CUT: GREEN\n",
    "}\n",
    "\n",
    "titlemap = { \n",
    "    AIR_CUT: 'Air Cutting',\n",
    "    CLIMB_CUT: 'Conventional Cutting',\n",
    "    CONV_CUT: 'Climb Cutting'\n",
    "}"
   ]
  },
  {
   "cell_type": "code",
   "execution_count": null,
   "metadata": {},
   "outputs": [],
   "source": [
    "# Plot the vibration without labels\n",
    "# Designed for experiment 28\n",
    "print(\"Plotting vibration time series\")\n",
    "shift = 10 # Seconds\n",
    "plt.figure(figsize=SIZE)\n",
    "plt.plot(td.vibration_time-shift, td.vibration[:,0], color=BLUE)\n",
    "plt.xlabel(\"Time [s]\")\n",
    "plt.ylabel(\"Acceleration [g]\")\n",
    "plt.xlim((0, 304))\n",
    "plt.ylim((-0.7, 0.7))"
   ]
  },
  {
   "cell_type": "code",
   "execution_count": null,
   "metadata": {},
   "outputs": [],
   "source": [
    "# Plot the vibration with labels\n",
    "# Designed for experiment 28\n",
    "\n",
    "print(\"Plotting vibration time series\")\n",
    "tmax = 304\n",
    "tstart = 0\n",
    "shift = 10 # Seconds\n",
    "iterator = td.iter_cuts()\n",
    "handles = []\n",
    "plt.figure(figsize=SIZE)\n",
    "while tstart<tmax:\n",
    "    cut = next(iterator)\n",
    "    tstart = cut.vibration_time[0]\n",
    "    color = colormap[cut.cuttype]\n",
    "    title = titlemap[cut.cuttype]\n",
    "    handle = plt.plot(cut.vibration_time-shift, cut.vibration[:,0], color=color, label=title)\n",
    "    handles.append(handle[0])\n",
    "plt.xlabel(\"Time [s]\")\n",
    "plt.ylabel(\"Acceleration [g]\")\n",
    "plt.xlim((0, 304))\n",
    "plt.ylim((-0.7, 0.7))\n",
    "plt.legend([handles[0],handles[3],handles[1]], titlemap.values())"
   ]
  },
  {
   "cell_type": "code",
   "execution_count": null,
   "metadata": {},
   "outputs": [],
   "source": [
    "# Plot vibration of the first cut\n",
    "print(\"Plotting vibration time series 0\")\n",
    "plt.figure()\n",
    "plt.plot(cut.vibration_time, cut.vibration[:,0])\n",
    "\n",
    "# Plot vibration of the second cut\n",
    "print(\"Plotting vibration time series 1\")\n",
    "plt.figure()\n",
    "plt.plot(cut.vibration_time, cut.vibration[:,1])\n"
   ]
  },
  {
   "cell_type": "code",
   "execution_count": null,
   "metadata": {},
   "outputs": [],
   "source": [
    "# Plot the vibration vectors over time\n",
    "count = 0\n",
    "plt.figure()\n",
    "for cut in td.iter_cuts():\n",
    "    print(\".\",end=\"\")\n",
    "    color = colormap[cut.cuttype]\n",
    "    plt.plot(cut.vibration_time, cut.vibration[:,0], color=color)\n",
    "    count += 1"
   ]
  },
  {
   "cell_type": "code",
   "execution_count": null,
   "metadata": {},
   "outputs": [],
   "source": [
    "# Plot the generalized vector for old tool and new tool\n",
    "nfft = 128\n",
    "plt.figure()\n",
    "plt.rc('text', usetex=True)\n",
    "first = get_audio_vibration_vector(climb_cuts[0],nfft)\n",
    "last = get_audio_vibration_vector(climb_cuts[-1],nfft)\n",
    "plt.semilogy(range(len(first)), first, color=BLUE,ls=\"solid\")\n",
    "plt.semilogy(range(len(last)), last, color=RED,ls=\"dashed\")\n",
    "plt.xlabel(r'Generic Feature Vector Component, $j$')\n",
    "plt.ylabel(r'Generic Feature Vector Magnitude, $x^{i}_j$')\n",
    "plt.legend(['New Tool','Worn Tool'])"
   ]
  },
  {
   "cell_type": "code",
   "execution_count": null,
   "metadata": {},
   "outputs": [],
   "source": [
    "plt.figure()\n",
    "plt.rc('text', usetex=True)\n",
    "climb = get_audio_vibration_vector(climb_cuts[2],nfft)\n",
    "conv = get_audio_vibration_vector(conv_cuts[2],nfft)\n",
    "air = get_audio_vibration_vector(air_cuts[3],nfft)\n",
    "plt.semilogy(range(len(air)), air, color=RED, ls=\"solid\",linewidth=2.0)\n",
    "plt.semilogy(range(len(climb)), climb, color=GREEN, ls=\"dashed\")\n",
    "plt.semilogy(range(len(conv)), conv, color=BLUE, ls=\"solid\")\n",
    "plt.xlabel(r'Generic Feature Vector Component, $j$')\n",
    "plt.ylabel(r'Generic Feature Vector Magnitude, $x^{i}_j$')\n",
    "plt.legend(titlemap.values())"
   ]
  },
  {
   "cell_type": "code",
   "execution_count": null,
   "metadata": {
    "collapsed": true
   },
   "outputs": [],
   "source": []
  },
  {
   "cell_type": "code",
   "execution_count": null,
   "metadata": {
    "collapsed": true
   },
   "outputs": [],
   "source": []
  },
  {
   "cell_type": "code",
   "execution_count": null,
   "metadata": {
    "collapsed": true
   },
   "outputs": [],
   "source": []
  }
 ],
 "metadata": {
  "kernelspec": {
   "display_name": "Python 3",
   "language": "python",
   "name": "python3"
  },
  "language_info": {
   "codemirror_mode": {
    "name": "ipython",
    "version": 3
   },
   "file_extension": ".py",
   "mimetype": "text/x-python",
   "name": "python",
   "nbconvert_exporter": "python",
   "pygments_lexer": "ipython3",
   "version": "3.6.1"
  }
 },
 "nbformat": 4,
 "nbformat_minor": 2
}
